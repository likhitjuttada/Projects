{
 "cells": [
  {
   "cell_type": "markdown",
   "id": "7e9edef5",
   "metadata": {},
   "source": [
    "# Simple Linear Regression\n",
    "\n",
    "Simple Linear Regression is a fundamental yet very widely used and certainly a powerful ML technique.\n",
    " - In this setting we have only 1 input feature and thus it has the term \"Simple\" in it\n",
    " - The term \"Linear\" denotes that we try to fit a straight line through the data points in our dataset\n",
    " - The goal is to predict the target based on the input feature that it has not seen\n",
    " \n",
    " When I say \"fit a straight line\", it means that I try to find a unique straight line that goes through a majority of the data-points. This is when I can say that the model has fit the data well."
   ]
  },
  {
   "cell_type": "markdown",
   "id": "f5a3e1ed",
   "metadata": {},
   "source": [
    "A straight line is of the form: __*y = mX + c*__ \n",
    "Here (m, c) are called the model parameters or coefficients.\n",
    "In mathematical sense, m is called \"*the slope*\" and c is called \"*the intercept*\"\n",
    "\n",
    "When we train a model on the training data, the model estimates the values of m and c. The values of m and c that we obtain after training the model are called the coefficient estimates.\n",
    "Note that the paraemters obtained after training are not representative of the true coefficent parameters and hence are called estimates"
   ]
  },
  {
   "cell_type": "markdown",
   "id": "2c5a06a2",
   "metadata": {},
   "source": [
    "Equation of Simple Linear Regression:"
   ]
  },
  {
   "attachments": {
    "Screenshot%202023-11-07%20153318.png": {
     "image/png": "[encoded data removed]"
    }
   },
   "cell_type": "markdown",
   "id": "c33ef706",
   "metadata": {},
   "source": [
    "![Screenshot%202023-11-07%20153318.png](attachment:Screenshot%202023-11-07%20153318.png)"
   ]
  },
  {
   "cell_type": "markdown",
   "id": "58ddf4eb",
   "metadata": {},
   "source": [
    "*The beta's are one way of representing the model coefficients*"
   ]
  },
  {
   "cell_type": "code",
   "execution_count": null,
   "id": "e89517fb",
   "metadata": {},
   "outputs": [],
   "source": [
    "# necessary imports\n",
    "import numpy as np\n",
    "import pandas as pd\n",
    "import matplotlib.pyplot as plt"
   ]
  },
  {
   "cell_type": "markdown",
   "id": "09720a40",
   "metadata": {},
   "source": [
    "#### The dataset here has salary as the continuous target mapped against the input feature Years of experience."
   ]
  },
  {
   "cell_type": "code",
   "execution_count": null,
   "id": "73c27b6a",
   "metadata": {},
   "outputs": [],
   "source": [
    "# read the dataset and display the head\n",
    "df = pd.read_csv(\"Salary_Data.csv\")\n",
    "df.head()"
   ]
  },
  {
   "cell_type": "code",
   "execution_count": null,
   "id": "03264e61",
   "metadata": {},
   "outputs": [],
   "source": [
    "df.shape"
   ]
  },
  {
   "cell_type": "code",
   "execution_count": null,
   "id": "c2d2b80c",
   "metadata": {},
   "outputs": [],
   "source": [
    "df[\"YearsExperience\"].unique()"
   ]
  },
  {
   "cell_type": "code",
   "execution_count": null,
   "id": "1a7ce573",
   "metadata": {},
   "outputs": [],
   "source": [
    "sum(df[\"Salary\"].isna())"
   ]
  },
  {
   "cell_type": "markdown",
   "id": "fa1de3ce",
   "metadata": {},
   "source": [
    "The above steps taken represent Data pre-processing steps. However the dataset is pretty clean and there was not much we had to do. In future we will deal with more complex datasets that might need a lot of preprocessing"
   ]
  },
  {
   "cell_type": "markdown",
   "id": "2343e905",
   "metadata": {},
   "source": [
    "During training we provide the **features** as a _nxp matrix_ in which each column represents a particular feature and each row represents an instance within the dataset. (n is the number of datapoints and p is the number of features)"
   ]
  },
  {
   "cell_type": "code",
   "execution_count": null,
   "id": "15bc4b70",
   "metadata": {},
   "outputs": [],
   "source": [
    "# Split the data into the feature matrix X and the target array y\n",
    "X = df.iloc[:,0]\n",
    "X = X.values.reshape((-1,1))\n",
    "\n",
    "y = df.iloc[:,1]"
   ]
  },
  {
   "cell_type": "code",
   "execution_count": null,
   "id": "864e55f7",
   "metadata": {},
   "outputs": [],
   "source": [
    "# Randomly split data into training set and testing set\n",
    "\n",
    "from sklearn.model_selection import train_test_split\n",
    "\n",
    "X_train, X_test, y_train, y_test = train_test_split(X, y, test_size=0.3, random_state=42)\n",
    "\n",
    "# Parameters:\n",
    "# - X: The feature data (independent variables).\n",
    "# - y: The target data (dependent variable).\n",
    "# - test_size: The proportion of the dataset to include in the testing set (e.g., 0.2 for 20% of the data).\n",
    "# - random_state: Optional. If you set a random state, it ensures reproducibility. The same random split will occur if you use the same random_state value in the future.\n",
    "\n",
    "# You now have X_train (features for training), X_test (features for testing), y_train (target for training), and y_test (target for testing)."
   ]
  },
  {
   "cell_type": "code",
   "execution_count": null,
   "id": "515cad8e",
   "metadata": {},
   "outputs": [],
   "source": [
    "# Instantiating the model and training it\n",
    "\n",
    "from sklearn.linear_model import LinearRegression\n",
    "\n",
    "model = LinearRegression()\n",
    "\n",
    "model.fit(X_train,y_train)\n",
    "\n",
    "y_pred = model.predict(X_test)   #predictions of the model on new unseen data"
   ]
  },
  {
   "cell_type": "code",
   "execution_count": null,
   "id": "3b5cee1a",
   "metadata": {},
   "outputs": [],
   "source": [
    "# Estimated coefficient of model(m)\n",
    "model.coef_"
   ]
  },
  {
   "cell_type": "code",
   "execution_count": null,
   "id": "dcb57e05",
   "metadata": {},
   "outputs": [],
   "source": [
    "# Esimated coefficient of model (c)\n",
    "model.intercept_"
   ]
  },
  {
   "cell_type": "code",
   "execution_count": null,
   "id": "93f41f1c",
   "metadata": {},
   "outputs": [],
   "source": [
    "# In this set of code we evaluate the prediction of our model. I will explain what the terms mean in future notebooks\n",
    "# For now remember that Mean absolute error should be as low as possible\n",
    "\n",
    "from sklearn.metrics import mean_absolute_error, mean_squared_error, r2_score\n",
    "\n",
    "mae = mean_absolute_error(y_test, y_pred)\n",
    "mse = mean_squared_error(y_test, y_pred)\n",
    "rmse = np.sqrt(mse)\n",
    "r2 = r2_score(y_test, y_pred)\n",
    "\n",
    "print(f\"Mean Absolute Error: {mae}\")\n",
    "print(f\"Mean Squared Error: {mse}\")\n",
    "print(f\"Root Mean Squared Error: {rmse}\")"
   ]
  },
  {
   "cell_type": "code",
   "execution_count": null,
   "id": "92e6a068",
   "metadata": {},
   "outputs": [],
   "source": [
    "# Plot of the linear regression fit(red) and the actual datapoints(blue)\n",
    "\n",
    "plt.scatter(X,y)\n",
    "plt.plot(X_test,y_pred, color = \"red\", label = \"Linear regression fit\")\n",
    "plt.legend()\n",
    "plt.xlabel(\"Years of Experience\")\n",
    "plt.ylabel(\"Salary\")\n",
    "plt.show()"
   ]
  },
  {
   "cell_type": "markdown",
   "id": "deedec48",
   "metadata": {},
   "source": [
    "You might notice something about the above plot. Yes the linear regression fit misses/ doesn't touch some of the data points.\n",
    "Now this will be the topic of discussion for us"
   ]
  },
  {
   "attachments": {
    "5f3a44b271f39266dd9861e0_zoYKG.png": {
     "image/png": "[encoded data removed]"
    }
   },
   "cell_type": "markdown",
   "id": "9b5da1c7",
   "metadata": {},
   "source": [
    "![5f3a44b271f39266dd9861e0_zoYKG.png](attachment:5f3a44b271f39266dd9861e0_zoYKG.png)"
   ]
  },
  {
   "cell_type": "markdown",
   "id": "6d31b4f6",
   "metadata": {},
   "source": [
    "If you see the above image, we see that there are lines dropped(green) from the data point onto the linear regression fit. The magnitude of the green line is called the **residual**. It represents the differnce between the actual data-point and the prediction made by the model for that point. In other words it represents the *error*term.\n"
   ]
  },
  {
   "cell_type": "markdown",
   "id": "a59e4f3d",
   "metadata": {},
   "source": [
    "Now, we can cleary see that the error terms' magnitude is greater for some points than the other. So the total error in prediction is given by the sum of individual errors. This term is technically  called *RSS(Residual Sum of Squares)*"
   ]
  },
  {
   "attachments": {
    "Screenshot%202023-11-07%20153619.png": {
     "image/png": "[encoded data removed]"
    }
   },
   "cell_type": "markdown",
   "id": "b5a53cd4",
   "metadata": {},
   "source": [
    "![Screenshot%202023-11-07%20153619.png](attachment:Screenshot%202023-11-07%20153619.png)"
   ]
  },
  {
   "cell_type": "markdown",
   "id": "0e9a27fa",
   "metadata": {},
   "source": [
    "The goal of training phase is to find the model parameters that will **minimize** the RSS term. \n",
    "The mimum value of parameters is can be found using *Gradient-Descent Algorithm* which is a powerful algorithm whose purpose is to find the minimum value of a function.\n",
    "\n",
    "We will discuss Gradient Descent in future notebooks\n",
    "\n",
    "The approach we have taken to solve the Simple Linear Regression case is called Ordinary *Least Squares*, since the straight line fit is obtained by minimizing the term Sum of *Least Squares*"
   ]
  },
  {
   "cell_type": "markdown",
   "id": "b8d87bbb",
   "metadata": {},
   "source": [
    "To evaluate the performance of a Linear Regression model, we can use several common regression evaluation metrics. \n",
    "Here are some of the most commonly used metrics:\n",
    "\n",
    "1. **Mean Absolute Error (MAE):**\n",
    "   - The MAE measures the average absolute difference between the predicted values and the actual values.\n",
    "   - It is less sensitive to outliers than the mean squared error.\n",
    "\n",
    "2. **Mean Squared Error (MSE):**\n",
    "   - The MSE measures the average squared difference between the predicted values and the actual values.\n",
    "   - It penalizes larger errors more than smaller ones.\n",
    "\n",
    "3. **Root Mean Squared Error (RMSE):**\n",
    "   - The RMSE is the square root of the MSE, and it provides a measure of the average error in the same units as the target variable.\n"
   ]
  },
  {
   "cell_type": "markdown",
   "id": "bfa2d9fb",
   "metadata": {},
   "source": [
    "That is it about Simple Linear Regression. Now we move onto an extension of the Simple Linear Regression, called **Multiple Linear Regression**"
   ]
  },
  {
   "cell_type": "markdown",
   "id": "c04412eb",
   "metadata": {},
   "source": [
    "## Multiple Linear Regression"
   ]
  },
  {
   "cell_type": "markdown",
   "id": "8e0e4cd0",
   "metadata": {},
   "source": [
    "The workflow is the same as Simple Linear Regression. We train the model on training data to esimate the model parameters in such  a way that the error in prediction is minimized. Then we evaluate the performance of our model with performance metrics like MSE, RMSE\n"
   ]
  },
  {
   "cell_type": "markdown",
   "id": "99d38431",
   "metadata": {},
   "source": [
    "Unlike Simple Linear Regression, Multiple Linear Regression has more than one feature that are given to the model as the input. Hence the name \"Multiple\". \n",
    "This is the fundamental difference between the two techniques."
   ]
  },
  {
   "cell_type": "markdown",
   "id": "d9ef9dff",
   "metadata": {},
   "source": [
    "Like before we try to implement this technique for better understanding."
   ]
  },
  {
   "attachments": {
    "Screenshot%202023-11-07%20153921.png": {
     "image/png": "[encoded data removed]"
    }
   },
   "cell_type": "markdown",
   "id": "41cbf54f",
   "metadata": {},
   "source": [
    "![Screenshot%202023-11-07%20153921.png](attachment:Screenshot%202023-11-07%20153921.png)"
   ]
  },
  {
   "cell_type": "markdown",
   "id": "ca3a1860",
   "metadata": {},
   "source": [
    "The value at the right end of the above picture is called \"Epsilon\" which denotes Irreducible error. Irreducible error represents the error introduced by factors that are not under our direct influence."
   ]
  },
  {
   "cell_type": "code",
   "execution_count": 20,
   "id": "c5a27cdc",
   "metadata": {},
   "outputs": [],
   "source": [
    "# necessary imports\n",
    "import numpy as np\n",
    "import pandas as pd\n",
    "import matplotlib.pyplot as plt"
   ]
  },
  {
   "cell_type": "code",
   "execution_count": 21,
   "id": "09ce9e4e",
   "metadata": {},
   "outputs": [],
   "source": [
    "# read the dataset\n",
    "df = pd.read_csv(\"Student_Performance.csv\")"
   ]
  },
  {
   "cell_type": "markdown",
   "id": "cbc25c9e",
   "metadata": {},
   "source": [
    "**This dataset has multiple features that are used to assess a student's performance to evaluate performance index(target) that has continuous values in the range 0 to 100**"
   ]
  },
  {
   "cell_type": "code",
   "execution_count": 22,
   "id": "37df99d9",
   "metadata": {},
   "outputs": [
    {
     "data": {
      "text/html": [
       "<div>\n",
       "<style scoped>\n",
       "    .dataframe tbody tr th:only-of-type {\n",
       "        vertical-align: middle;\n",
       "    }\n",
       "\n",
       "    .dataframe tbody tr th {\n",
       "        vertical-align: top;\n",
       "    }\n",
       "\n",
       "    .dataframe thead th {\n",
       "        text-align: right;\n",
       "    }\n",
       "</style>\n",
       "<table border=\"1\" class=\"dataframe\">\n",
       "  <thead>\n",
       "    <tr style=\"text-align: right;\">\n",
       "      <th></th>\n",
       "      <th>Hours Studied</th>\n",
       "      <th>Previous Scores</th>\n",
       "      <th>Extracurricular Activities</th>\n",
       "      <th>Sleep Hours</th>\n",
       "      <th>Sample Question Papers Practiced</th>\n",
       "      <th>Performance Index</th>\n",
       "    </tr>\n",
       "  </thead>\n",
       "  <tbody>\n",
       "    <tr>\n",
       "      <th>0</th>\n",
       "      <td>7</td>\n",
       "      <td>99</td>\n",
       "      <td>Yes</td>\n",
       "      <td>9</td>\n",
       "      <td>1</td>\n",
       "      <td>91.0</td>\n",
       "    </tr>\n",
       "    <tr>\n",
       "      <th>1</th>\n",
       "      <td>4</td>\n",
       "      <td>82</td>\n",
       "      <td>No</td>\n",
       "      <td>4</td>\n",
       "      <td>2</td>\n",
       "      <td>65.0</td>\n",
       "    </tr>\n",
       "    <tr>\n",
       "      <th>2</th>\n",
       "      <td>8</td>\n",
       "      <td>51</td>\n",
       "      <td>Yes</td>\n",
       "      <td>7</td>\n",
       "      <td>2</td>\n",
       "      <td>45.0</td>\n",
       "    </tr>\n",
       "    <tr>\n",
       "      <th>3</th>\n",
       "      <td>5</td>\n",
       "      <td>52</td>\n",
       "      <td>Yes</td>\n",
       "      <td>5</td>\n",
       "      <td>2</td>\n",
       "      <td>36.0</td>\n",
       "    </tr>\n",
       "    <tr>\n",
       "      <th>4</th>\n",
       "      <td>7</td>\n",
       "      <td>75</td>\n",
       "      <td>No</td>\n",
       "      <td>8</td>\n",
       "      <td>5</td>\n",
       "      <td>66.0</td>\n",
       "    </tr>\n",
       "  </tbody>\n",
       "</table>\n",
       "</div>"
      ],
      "text/plain": [
       "   Hours Studied  Previous Scores Extracurricular Activities  Sleep Hours  \\\n",
       "0              7               99                        Yes            9   \n",
       "1              4               82                         No            4   \n",
       "2              8               51                        Yes            7   \n",
       "3              5               52                        Yes            5   \n",
       "4              7               75                         No            8   \n",
       "\n",
       "   Sample Question Papers Practiced  Performance Index  \n",
       "0                                 1               91.0  \n",
       "1                                 2               65.0  \n",
       "2                                 2               45.0  \n",
       "3                                 2               36.0  \n",
       "4                                 5               66.0  "
      ]
     },
     "execution_count": 22,
     "metadata": {},
     "output_type": "execute_result"
    }
   ],
   "source": [
    "df.head()"
   ]
  },
  {
   "cell_type": "code",
   "execution_count": 23,
   "id": "4fd81a19",
   "metadata": {},
   "outputs": [
    {
     "data": {
      "text/plain": [
       "True"
      ]
     },
     "execution_count": 23,
     "metadata": {},
     "output_type": "execute_result"
    }
   ],
   "source": [
    "(df != \" \").all().all()"
   ]
  },
  {
   "cell_type": "code",
   "execution_count": 24,
   "id": "27aefe64",
   "metadata": {},
   "outputs": [
    {
     "data": {
      "text/plain": [
       "array([1, 2, 5, 6, 0, 8, 3, 4, 9, 7], dtype=int64)"
      ]
     },
     "execution_count": 24,
     "metadata": {},
     "output_type": "execute_result"
    }
   ],
   "source": [
    "df[\"Sample Question Papers Practiced\"].unique()"
   ]
  },
  {
   "cell_type": "code",
   "execution_count": 25,
   "id": "8af54578",
   "metadata": {},
   "outputs": [],
   "source": [
    "# Convert the Qualitative variables into qualitative variables\n",
    "df_encoded = pd.get_dummies(df, columns=['Extracurricular Activities'])"
   ]
  },
  {
   "cell_type": "markdown",
   "id": "8e78fc64",
   "metadata": {},
   "source": [
    "*The importance of the above step will be explained in future releases*"
   ]
  },
  {
   "cell_type": "code",
   "execution_count": 26,
   "id": "209ee6e1",
   "metadata": {},
   "outputs": [
    {
     "data": {
      "text/html": [
       "<div>\n",
       "<style scoped>\n",
       "    .dataframe tbody tr th:only-of-type {\n",
       "        vertical-align: middle;\n",
       "    }\n",
       "\n",
       "    .dataframe tbody tr th {\n",
       "        vertical-align: top;\n",
       "    }\n",
       "\n",
       "    .dataframe thead th {\n",
       "        text-align: right;\n",
       "    }\n",
       "</style>\n",
       "<table border=\"1\" class=\"dataframe\">\n",
       "  <thead>\n",
       "    <tr style=\"text-align: right;\">\n",
       "      <th></th>\n",
       "      <th>Hours Studied</th>\n",
       "      <th>Previous Scores</th>\n",
       "      <th>Sleep Hours</th>\n",
       "      <th>Sample Question Papers Practiced</th>\n",
       "      <th>Performance Index</th>\n",
       "      <th>Extracurricular Activities_No</th>\n",
       "      <th>Extracurricular Activities_Yes</th>\n",
       "    </tr>\n",
       "  </thead>\n",
       "  <tbody>\n",
       "    <tr>\n",
       "      <th>0</th>\n",
       "      <td>7</td>\n",
       "      <td>99</td>\n",
       "      <td>9</td>\n",
       "      <td>1</td>\n",
       "      <td>91.0</td>\n",
       "      <td>0</td>\n",
       "      <td>1</td>\n",
       "    </tr>\n",
       "    <tr>\n",
       "      <th>1</th>\n",
       "      <td>4</td>\n",
       "      <td>82</td>\n",
       "      <td>4</td>\n",
       "      <td>2</td>\n",
       "      <td>65.0</td>\n",
       "      <td>1</td>\n",
       "      <td>0</td>\n",
       "    </tr>\n",
       "    <tr>\n",
       "      <th>2</th>\n",
       "      <td>8</td>\n",
       "      <td>51</td>\n",
       "      <td>7</td>\n",
       "      <td>2</td>\n",
       "      <td>45.0</td>\n",
       "      <td>0</td>\n",
       "      <td>1</td>\n",
       "    </tr>\n",
       "    <tr>\n",
       "      <th>3</th>\n",
       "      <td>5</td>\n",
       "      <td>52</td>\n",
       "      <td>5</td>\n",
       "      <td>2</td>\n",
       "      <td>36.0</td>\n",
       "      <td>0</td>\n",
       "      <td>1</td>\n",
       "    </tr>\n",
       "    <tr>\n",
       "      <th>4</th>\n",
       "      <td>7</td>\n",
       "      <td>75</td>\n",
       "      <td>8</td>\n",
       "      <td>5</td>\n",
       "      <td>66.0</td>\n",
       "      <td>1</td>\n",
       "      <td>0</td>\n",
       "    </tr>\n",
       "  </tbody>\n",
       "</table>\n",
       "</div>"
      ],
      "text/plain": [
       "   Hours Studied  Previous Scores  Sleep Hours  \\\n",
       "0              7               99            9   \n",
       "1              4               82            4   \n",
       "2              8               51            7   \n",
       "3              5               52            5   \n",
       "4              7               75            8   \n",
       "\n",
       "   Sample Question Papers Practiced  Performance Index  \\\n",
       "0                                 1               91.0   \n",
       "1                                 2               65.0   \n",
       "2                                 2               45.0   \n",
       "3                                 2               36.0   \n",
       "4                                 5               66.0   \n",
       "\n",
       "   Extracurricular Activities_No  Extracurricular Activities_Yes  \n",
       "0                              0                               1  \n",
       "1                              1                               0  \n",
       "2                              0                               1  \n",
       "3                              0                               1  \n",
       "4                              1                               0  "
      ]
     },
     "execution_count": 26,
     "metadata": {},
     "output_type": "execute_result"
    }
   ],
   "source": [
    "df_encoded.head()"
   ]
  },
  {
   "cell_type": "code",
   "execution_count": 27,
   "id": "4153a85b",
   "metadata": {},
   "outputs": [],
   "source": [
    "df_encoded = df_encoded[[x for x in df_encoded.columns if x!= \"Performance Index\"] + [\"Performance Index\"]]"
   ]
  },
  {
   "cell_type": "markdown",
   "id": "482f8b18",
   "metadata": {},
   "source": [
    "The above set of steps were part of data-preprocessing and since this is a simple dataset there was not much to pre-process. But rememebr that data pre-processing is a crucial step that can **make or break** your model!!!"
   ]
  },
  {
   "cell_type": "code",
   "execution_count": 29,
   "id": "8c6ab4b2",
   "metadata": {},
   "outputs": [
    {
     "data": {
      "text/html": [
       "<div>\n",
       "<style scoped>\n",
       "    .dataframe tbody tr th:only-of-type {\n",
       "        vertical-align: middle;\n",
       "    }\n",
       "\n",
       "    .dataframe tbody tr th {\n",
       "        vertical-align: top;\n",
       "    }\n",
       "\n",
       "    .dataframe thead th {\n",
       "        text-align: right;\n",
       "    }\n",
       "</style>\n",
       "<table border=\"1\" class=\"dataframe\">\n",
       "  <thead>\n",
       "    <tr style=\"text-align: right;\">\n",
       "      <th></th>\n",
       "      <th>Hours Studied</th>\n",
       "      <th>Previous Scores</th>\n",
       "      <th>Sleep Hours</th>\n",
       "      <th>Sample Question Papers Practiced</th>\n",
       "      <th>Extracurricular Activities_No</th>\n",
       "      <th>Extracurricular Activities_Yes</th>\n",
       "      <th>Performance Index</th>\n",
       "    </tr>\n",
       "  </thead>\n",
       "  <tbody>\n",
       "    <tr>\n",
       "      <th>0</th>\n",
       "      <td>7</td>\n",
       "      <td>99</td>\n",
       "      <td>9</td>\n",
       "      <td>1</td>\n",
       "      <td>0</td>\n",
       "      <td>1</td>\n",
       "      <td>91.0</td>\n",
       "    </tr>\n",
       "    <tr>\n",
       "      <th>1</th>\n",
       "      <td>4</td>\n",
       "      <td>82</td>\n",
       "      <td>4</td>\n",
       "      <td>2</td>\n",
       "      <td>1</td>\n",
       "      <td>0</td>\n",
       "      <td>65.0</td>\n",
       "    </tr>\n",
       "    <tr>\n",
       "      <th>2</th>\n",
       "      <td>8</td>\n",
       "      <td>51</td>\n",
       "      <td>7</td>\n",
       "      <td>2</td>\n",
       "      <td>0</td>\n",
       "      <td>1</td>\n",
       "      <td>45.0</td>\n",
       "    </tr>\n",
       "    <tr>\n",
       "      <th>3</th>\n",
       "      <td>5</td>\n",
       "      <td>52</td>\n",
       "      <td>5</td>\n",
       "      <td>2</td>\n",
       "      <td>0</td>\n",
       "      <td>1</td>\n",
       "      <td>36.0</td>\n",
       "    </tr>\n",
       "    <tr>\n",
       "      <th>4</th>\n",
       "      <td>7</td>\n",
       "      <td>75</td>\n",
       "      <td>8</td>\n",
       "      <td>5</td>\n",
       "      <td>1</td>\n",
       "      <td>0</td>\n",
       "      <td>66.0</td>\n",
       "    </tr>\n",
       "  </tbody>\n",
       "</table>\n",
       "</div>"
      ],
      "text/plain": [
       "   Hours Studied  Previous Scores  Sleep Hours  \\\n",
       "0              7               99            9   \n",
       "1              4               82            4   \n",
       "2              8               51            7   \n",
       "3              5               52            5   \n",
       "4              7               75            8   \n",
       "\n",
       "   Sample Question Papers Practiced  Extracurricular Activities_No  \\\n",
       "0                                 1                              0   \n",
       "1                                 2                              1   \n",
       "2                                 2                              0   \n",
       "3                                 2                              0   \n",
       "4                                 5                              1   \n",
       "\n",
       "   Extracurricular Activities_Yes  Performance Index  \n",
       "0                               1               91.0  \n",
       "1                               0               65.0  \n",
       "2                               1               45.0  \n",
       "3                               1               36.0  \n",
       "4                               0               66.0  "
      ]
     },
     "execution_count": 29,
     "metadata": {},
     "output_type": "execute_result"
    }
   ],
   "source": [
    "df_encoded.head()"
   ]
  },
  {
   "cell_type": "code",
   "execution_count": 30,
   "id": "cab5658e",
   "metadata": {},
   "outputs": [],
   "source": [
    "X = df_encoded.iloc[:,:-1]\n",
    "y = df_encoded.iloc[:,-1]"
   ]
  },
  {
   "cell_type": "code",
   "execution_count": 31,
   "id": "7197b914",
   "metadata": {},
   "outputs": [],
   "source": [
    "from sklearn.model_selection import train_test_split\n",
    "\n",
    "X_train, X_test, y_train, y_test = train_test_split(X, y, test_size=0.3, random_state=42)\n",
    "\n",
    "# Parameters:\n",
    "# - X: The feature data (independent variables).\n",
    "# - y: The target data (dependent variable).\n",
    "# - test_size: The proportion of the dataset to include in the testing set (e.g., 0.2 for 20% of the data).\n",
    "# - random_state: Optional. If you set a random state, it ensures reproducibility. The same random split will occur if you use the same random_state value in the future.\n",
    "\n",
    "# You now have X_train (features for training), X_test (features for testing), y_train (target for training), and y_test (target for testing)."
   ]
  },
  {
   "cell_type": "code",
   "execution_count": 37,
   "id": "b1d775cb",
   "metadata": {},
   "outputs": [
    {
     "data": {
      "text/html": [
       "<style>#sk-container-id-3 {color: black;}#sk-container-id-3 pre{padding: 0;}#sk-container-id-3 div.sk-toggleable {background-color: white;}#sk-container-id-3 label.sk-toggleable__label {cursor: pointer;display: block;width: 100%;margin-bottom: 0;padding: 0.3em;box-sizing: border-box;text-align: center;}#sk-container-id-3 label.sk-toggleable__label-arrow:before {content: \"▸\";float: left;margin-right: 0.25em;color: #696969;}#sk-container-id-3 label.sk-toggleable__label-arrow:hover:before {color: black;}#sk-container-id-3 div.sk-estimator:hover label.sk-toggleable__label-arrow:before {color: black;}#sk-container-id-3 div.sk-toggleable__content {max-height: 0;max-width: 0;overflow: hidden;text-align: left;background-color: #f0f8ff;}#sk-container-id-3 div.sk-toggleable__content pre {margin: 0.2em;color: black;border-radius: 0.25em;background-color: #f0f8ff;}#sk-container-id-3 input.sk-toggleable__control:checked~div.sk-toggleable__content {max-height: 200px;max-width: 100%;overflow: auto;}#sk-container-id-3 input.sk-toggleable__control:checked~label.sk-toggleable__label-arrow:before {content: \"▾\";}#sk-container-id-3 div.sk-estimator input.sk-toggleable__control:checked~label.sk-toggleable__label {background-color: #d4ebff;}#sk-container-id-3 div.sk-label input.sk-toggleable__control:checked~label.sk-toggleable__label {background-color: #d4ebff;}#sk-container-id-3 input.sk-hidden--visually {border: 0;clip: rect(1px 1px 1px 1px);clip: rect(1px, 1px, 1px, 1px);height: 1px;margin: -1px;overflow: hidden;padding: 0;position: absolute;width: 1px;}#sk-container-id-3 div.sk-estimator {font-family: monospace;background-color: #f0f8ff;border: 1px dotted black;border-radius: 0.25em;box-sizing: border-box;margin-bottom: 0.5em;}#sk-container-id-3 div.sk-estimator:hover {background-color: #d4ebff;}#sk-container-id-3 div.sk-parallel-item::after {content: \"\";width: 100%;border-bottom: 1px solid gray;flex-grow: 1;}#sk-container-id-3 div.sk-label:hover label.sk-toggleable__label {background-color: #d4ebff;}#sk-container-id-3 div.sk-serial::before {content: \"\";position: absolute;border-left: 1px solid gray;box-sizing: border-box;top: 0;bottom: 0;left: 50%;z-index: 0;}#sk-container-id-3 div.sk-serial {display: flex;flex-direction: column;align-items: center;background-color: white;padding-right: 0.2em;padding-left: 0.2em;position: relative;}#sk-container-id-3 div.sk-item {position: relative;z-index: 1;}#sk-container-id-3 div.sk-parallel {display: flex;align-items: stretch;justify-content: center;background-color: white;position: relative;}#sk-container-id-3 div.sk-item::before, #sk-container-id-3 div.sk-parallel-item::before {content: \"\";position: absolute;border-left: 1px solid gray;box-sizing: border-box;top: 0;bottom: 0;left: 50%;z-index: -1;}#sk-container-id-3 div.sk-parallel-item {display: flex;flex-direction: column;z-index: 1;position: relative;background-color: white;}#sk-container-id-3 div.sk-parallel-item:first-child::after {align-self: flex-end;width: 50%;}#sk-container-id-3 div.sk-parallel-item:last-child::after {align-self: flex-start;width: 50%;}#sk-container-id-3 div.sk-parallel-item:only-child::after {width: 0;}#sk-container-id-3 div.sk-dashed-wrapped {border: 1px dashed gray;margin: 0 0.4em 0.5em 0.4em;box-sizing: border-box;padding-bottom: 0.4em;background-color: white;}#sk-container-id-3 div.sk-label label {font-family: monospace;font-weight: bold;display: inline-block;line-height: 1.2em;}#sk-container-id-3 div.sk-label-container {text-align: center;}#sk-container-id-3 div.sk-container {/* jupyter's `normalize.less` sets `[hidden] { display: none; }` but bootstrap.min.css set `[hidden] { display: none !important; }` so we also need the `!important` here to be able to override the default hidden behavior on the sphinx rendered scikit-learn.org. See: https://github.com/scikit-learn/scikit-learn/issues/21755 */display: inline-block !important;position: relative;}#sk-container-id-3 div.sk-text-repr-fallback {display: none;}</style><div id=\"sk-container-id-3\" class=\"sk-top-container\"><div class=\"sk-text-repr-fallback\"><pre>LinearRegression()</pre><b>In a Jupyter environment, please rerun this cell to show the HTML representation or trust the notebook. <br />On GitHub, the HTML representation is unable to render, please try loading this page with nbviewer.org.</b></div><div class=\"sk-container\" hidden><div class=\"sk-item\"><div class=\"sk-estimator sk-toggleable\"><input class=\"sk-toggleable__control sk-hidden--visually\" id=\"sk-estimator-id-3\" type=\"checkbox\" checked><label for=\"sk-estimator-id-3\" class=\"sk-toggleable__label sk-toggleable__label-arrow\">LinearRegression</label><div class=\"sk-toggleable__content\"><pre>LinearRegression()</pre></div></div></div></div></div>"
      ],
      "text/plain": [
       "LinearRegression()"
      ]
     },
     "execution_count": 37,
     "metadata": {},
     "output_type": "execute_result"
    }
   ],
   "source": [
    "# Building the model\n",
    "from sklearn.linear_model import LinearRegression\n",
    "\n",
    "model = LinearRegression()\n",
    "model.fit(X_train, y_train)"
   ]
  },
  {
   "cell_type": "code",
   "execution_count": 38,
   "id": "de9a16ce",
   "metadata": {},
   "outputs": [],
   "source": [
    "# making prediction\n",
    "y_pred = model.predict(X_test)"
   ]
  },
  {
   "cell_type": "code",
   "execution_count": 40,
   "id": "3b89c4e6",
   "metadata": {},
   "outputs": [
    {
     "data": {
      "text/plain": [
       "array([ 2.85895223,  1.01551979,  0.47967676,  0.19039416, -0.29085643,\n",
       "        0.29085643])"
      ]
     },
     "execution_count": 40,
     "metadata": {},
     "output_type": "execute_result"
    }
   ],
   "source": [
    "# estimated parameters of the model, note that in case of Simple Linear Regression, \n",
    "# there was only a single element in this variable\n",
    "model.coef_"
   ]
  },
  {
   "cell_type": "code",
   "execution_count": 42,
   "id": "6abfeea3",
   "metadata": {},
   "outputs": [
    {
     "data": {
      "text/plain": [
       "-33.54568738005488"
      ]
     },
     "execution_count": 42,
     "metadata": {},
     "output_type": "execute_result"
    }
   ],
   "source": [
    "# The intercept term, which is also determined during training\n",
    "model.intercept_"
   ]
  },
  {
   "cell_type": "code",
   "execution_count": 41,
   "id": "b552d8d6",
   "metadata": {},
   "outputs": [
    {
     "name": "stdout",
     "output_type": "stream",
     "text": [
      "Mean Absolute Error: 1.609043756404523\n",
      "Mean Squared Error: 4.066563824092685\n",
      "Root Mean Squared Error: 2.0165722957763466\n",
      "R-squared (R2) Score: 0.9890110607021136\n"
     ]
    }
   ],
   "source": [
    "# assess the performance of the linear model\n",
    "\n",
    "from sklearn.metrics import mean_absolute_error, mean_squared_error, r2_score\n",
    "\n",
    "mae = mean_absolute_error(y_test, y_pred)\n",
    "mse = mean_squared_error(y_test, y_pred)\n",
    "rmse = np.sqrt(mse)\n",
    "r2 = r2_score(y_test, y_pred)\n",
    "\n",
    "print(f\"Mean Absolute Error: {mae}\")\n",
    "print(f\"Mean Squared Error: {mse}\")\n",
    "print(f\"Root Mean Squared Error: {rmse}\")\n",
    "print(f\"R-squared (R2) Score: {r2}\")\n"
   ]
  },
  {
   "cell_type": "markdown",
   "id": "4aecc659",
   "metadata": {},
   "source": [
    "There is another flavor to Linear Regression called the *Polynomial Regresion* which I will discuss in this notebook in the future releases."
   ]
  },
  {
   "cell_type": "code",
   "execution_count": null,
   "id": "389799b5",
   "metadata": {},
   "outputs": [],
   "source": []
  }
 ],
 "metadata": {
  "kernelspec": {
   "display_name": "Python 3 (ipykernel)",
   "language": "python",
   "name": "python3"
  },
  "language_info": {
   "codemirror_mode": {
    "name": "ipython",
    "version": 3
   },
   "file_extension": ".py",
   "mimetype": "text/x-python",
   "name": "python",
   "nbconvert_exporter": "python",
   "pygments_lexer": "ipython3",
   "version": "3.11.4"
  }
 },
 "nbformat": 4,
 "nbformat_minor": 5
}
